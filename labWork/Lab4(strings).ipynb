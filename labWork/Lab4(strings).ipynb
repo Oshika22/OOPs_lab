{
 "cells": [
  {
   "cell_type": "markdown",
   "id": "5c831f02-d55e-44f3-9fe6-1e31dd8283f0",
   "metadata": {},
   "source": [
    "**A. To separate the following string into comma (,) separated values. X = \"India.is.my.country\"**"
   ]
  },
  {
   "cell_type": "code",
   "execution_count": 1,
   "id": "1d9eb6ed-f1f6-4100-ae75-f107eee1e243",
   "metadata": {},
   "outputs": [
    {
     "name": "stdout",
     "output_type": "stream",
     "text": [
      "India,is,my,country\n"
     ]
    }
   ],
   "source": [
    "X = \"India.is.my.country\"\n",
    "print(','.join(X.split('.')))"
   ]
  },
  {
   "cell_type": "markdown",
   "id": "f198ca1c-f86d-4c52-a49b-73b9e5ef809f",
   "metadata": {},
   "source": [
    "**B. To remove a given character from a string. Y = \"M.A.N.IP.A.L\"**"
   ]
  },
  {
   "cell_type": "code",
   "execution_count": 2,
   "id": "49caed21-b70d-47e0-ae6d-37565d27ad6c",
   "metadata": {},
   "outputs": [
    {
     "name": "stdout",
     "output_type": "stream",
     "text": [
      "MANIPAL\n"
     ]
    }
   ],
   "source": [
    "Y = \"M.A.N.I.P.A.L\"\n",
    "print(Y.replace('.', ''))"
   ]
  },
  {
   "cell_type": "markdown",
   "id": "3ee3cce4-504e-4ff3-b96a-0b586182cfe0",
   "metadata": {},
   "source": [
    "**C. To remove the (.) dots from the above string.**"
   ]
  },
  {
   "cell_type": "code",
   "execution_count": 3,
   "id": "826de23b-1c1b-4927-93ef-41d384cac8bf",
   "metadata": {},
   "outputs": [
    {
     "name": "stdout",
     "output_type": "stream",
     "text": [
      "MANIPAL\n"
     ]
    }
   ],
   "source": [
    "Y = \"M.A.N.I.P.A.L\"\n",
    "print(Y.replace('.', ''))"
   ]
  },
  {
   "cell_type": "markdown",
   "id": "52536f89-ecac-4718-a614-6687dc0003aa",
   "metadata": {},
   "source": [
    "**3. Write a program to sort strings alphabetically in Python.**"
   ]
  },
  {
   "cell_type": "code",
   "execution_count": 4,
   "id": "425a72b1-ce8d-4399-8223-4d6b21471d0c",
   "metadata": {},
   "outputs": [
    {
     "name": "stdout",
     "output_type": "stream",
     "text": [
      "['apple', 'banana', 'grape', 'kiwi', 'orange']\n"
     ]
    }
   ],
   "source": [
    "words = [\"apple\", \"orange\", \"banana\", \"grape\", \"kiwi\"]\n",
    "print(sorted(words))"
   ]
  },
  {
   "cell_type": "markdown",
   "id": "20f822ec-8596-4d81-9e50-b9f11c0ace45",
   "metadata": {},
   "source": [
    "**4. Take an input from a user as a string, then reverse it.**"
   ]
  },
  {
   "cell_type": "code",
   "execution_count": 6,
   "id": "68d76e06-0705-4541-bc8f-e2c03677bd22",
   "metadata": {},
   "outputs": [
    {
     "name": "stdin",
     "output_type": "stream",
     "text": [
      "Enter a string:  hello world\n"
     ]
    },
    {
     "name": "stdout",
     "output_type": "stream",
     "text": [
      "dlrow olleh\n"
     ]
    }
   ],
   "source": [
    "user_input = input(\"Enter a string: \")\n",
    "print(user_input[::-1])"
   ]
  },
  {
   "cell_type": "markdown",
   "id": "55e4b85b-6cfd-477a-99eb-eb8182ee7294",
   "metadata": {},
   "source": [
    "**5. Write a program to check if a string contains only digits.**"
   ]
  },
  {
   "cell_type": "code",
   "execution_count": 8,
   "id": "d9b10143-f6ca-476b-bc99-1a78ba3cae13",
   "metadata": {},
   "outputs": [
    {
     "name": "stdin",
     "output_type": "stream",
     "text": [
      "Enter a string:  23456\n"
     ]
    },
    {
     "name": "stdout",
     "output_type": "stream",
     "text": [
      "Contains only digits: True\n"
     ]
    }
   ],
   "source": [
    "string = input(\"Enter a string: \")\n",
    "print(\"Contains only digits:\", string.isdigit())"
   ]
  },
  {
   "cell_type": "markdown",
   "id": "0dc7f50f-0d04-4f3c-a729-89f1c514779b",
   "metadata": {},
   "source": [
    "**6. Write a program to find the number of vowels in the string.**"
   ]
  },
  {
   "cell_type": "code",
   "execution_count": 9,
   "id": "e5eda83a-a05e-44c1-a5db-9e6e86a9d3cb",
   "metadata": {},
   "outputs": [
    {
     "name": "stdin",
     "output_type": "stream",
     "text": [
      "Enter a string:  qwerty\n"
     ]
    },
    {
     "name": "stdout",
     "output_type": "stream",
     "text": [
      "Number of vowels: 1\n"
     ]
    }
   ],
   "source": [
    "string = input(\"Enter a string: \")\n",
    "vowels = 'aeiouAEIOU'\n",
    "vowel_count = sum(1 for char in string if char in vowels)\n",
    "print(\"Number of vowels:\", vowel_count)"
   ]
  },
  {
   "cell_type": "code",
   "execution_count": null,
   "id": "035d2061-db35-441d-8e40-2887d1b25931",
   "metadata": {},
   "outputs": [],
   "source": []
  }
 ],
 "metadata": {
  "kernelspec": {
   "display_name": "Python 3 (ipykernel)",
   "language": "python",
   "name": "python3"
  },
  "language_info": {
   "codemirror_mode": {
    "name": "ipython",
    "version": 3
   },
   "file_extension": ".py",
   "mimetype": "text/x-python",
   "name": "python",
   "nbconvert_exporter": "python",
   "pygments_lexer": "ipython3",
   "version": "3.12.5"
  }
 },
 "nbformat": 4,
 "nbformat_minor": 5
}
