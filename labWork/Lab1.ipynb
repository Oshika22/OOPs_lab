{
 "cells": [
  {
   "cell_type": "markdown",
   "id": "97f52529-8a18-43de-b110-903c908b9d4a",
   "metadata": {},
   "source": [
    "**1. Write a program to find if a number is Prime or not.**"
   ]
  },
  {
   "cell_type": "code",
   "execution_count": 2,
   "id": "108f5c0d-bfa4-4e92-b11c-749e155473b8",
   "metadata": {},
   "outputs": [
    {
     "name": "stdin",
     "output_type": "stream",
     "text": [
      "Enter a number to check if it is prime:  7\n"
     ]
    },
    {
     "name": "stdout",
     "output_type": "stream",
     "text": [
      "7 is a Prime Number\n"
     ]
    }
   ],
   "source": [
    "def is_prime(number):\n",
    "    if number <= 1:\n",
    "        return False\n",
    "    for i in range(2, int(number ** 0.5) + 1):\n",
    "        if number % i == 0:\n",
    "            return False\n",
    "    return True\n",
    "\n",
    "number = int(input(\"Enter a number to check if it is prime: \"))\n",
    "if is_prime(number):\n",
    "    print(f\"{number} is a Prime Number\")\n",
    "else:\n",
    "    print(f\"{number} is not a Prime Number\")\n"
   ]
  },
  {
   "cell_type": "markdown",
   "id": "043c8e8c-c01b-4ece-80d3-8f0afb66bc3b",
   "metadata": {},
   "source": [
    "**2. Write a program to find if the given number is a palindrome.**"
   ]
  },
  {
   "cell_type": "code",
   "execution_count": 3,
   "id": "00c50069-3679-464b-b29f-9b1da7ab97ae",
   "metadata": {},
   "outputs": [
    {
     "name": "stdin",
     "output_type": "stream",
     "text": [
      "Enter a number to check if it is a palindrome:  121\n"
     ]
    },
    {
     "name": "stdout",
     "output_type": "stream",
     "text": [
      "121 is a Palindrome\n"
     ]
    }
   ],
   "source": [
    "def is_palindrome(number):\n",
    "    return str(number) == str(number)[::-1]\n",
    "\n",
    "number = int(input(\"Enter a number to check if it is a palindrome: \"))\n",
    "if is_palindrome(number):\n",
    "    print(f\"{number} is a Palindrome\")\n",
    "else:\n",
    "    print(f\"{number} is not a Palindrome\")\n"
   ]
  },
  {
   "cell_type": "markdown",
   "id": "c98e9d47-b8bc-499c-bd8f-20193d2de68f",
   "metadata": {},
   "source": [
    "**3. Write a program to find the grade of a student using a given percentage**"
   ]
  },
  {
   "cell_type": "code",
   "execution_count": 4,
   "id": "a3876584-d0a3-49cb-bbca-38d6702c6bc1",
   "metadata": {},
   "outputs": [
    {
     "name": "stdin",
     "output_type": "stream",
     "text": [
      "Enter the student's percentage:  90\n"
     ]
    },
    {
     "name": "stdout",
     "output_type": "stream",
     "text": [
      "The grade for 90.0% is A\n"
     ]
    }
   ],
   "source": [
    "def find_grade(percentage):\n",
    "    if percentage >= 90:\n",
    "        return \"A\"\n",
    "    elif percentage >= 80:\n",
    "        return \"B\"\n",
    "    elif percentage >= 70:\n",
    "        return \"C\"\n",
    "    elif percentage >= 60:\n",
    "        return \"D\"\n",
    "    elif percentage >= 50:\n",
    "        return \"E\"\n",
    "    else:\n",
    "        return \"F\"\n",
    "\n",
    "percentage = float(input(\"Enter the student's percentage: \"))\n",
    "grade = find_grade(percentage)\n",
    "print(f\"The grade for {percentage}% is {grade}\")\n"
   ]
  },
  {
   "cell_type": "markdown",
   "id": "d0240647-b5cb-4916-8b77-e8bcde8d33e6",
   "metadata": {},
   "source": [
    "**4. Write a program to create a simple console-based calculator.**"
   ]
  },
  {
   "cell_type": "code",
   "execution_count": 6,
   "id": "c269d549-fe2e-4612-982b-b8f8e7268e8a",
   "metadata": {},
   "outputs": [
    {
     "name": "stdout",
     "output_type": "stream",
     "text": [
      "Select operation:\n",
      "1. Add\n",
      "2. Subtract\n",
      "3. Multiply\n",
      "4. Divide\n"
     ]
    },
    {
     "name": "stdin",
     "output_type": "stream",
     "text": [
      "Enter choice (1/2/3/4):  1\n",
      "Enter first number:  123\n",
      "Enter second number:  1234\n"
     ]
    },
    {
     "name": "stdout",
     "output_type": "stream",
     "text": [
      "The result is: 1357.0\n"
     ]
    }
   ],
   "source": [
    "def calculator():\n",
    "    print(\"Select operation:\")\n",
    "    print(\"1. Add\")\n",
    "    print(\"2. Subtract\")\n",
    "    print(\"3. Multiply\")\n",
    "    print(\"4. Divide\")\n",
    "    \n",
    "    choice = input(\"Enter choice (1/2/3/4): \")\n",
    "    \n",
    "    num1 = float(input(\"Enter first number: \"))\n",
    "    num2 = float(input(\"Enter second number: \"))\n",
    "\n",
    "    if choice == '1':\n",
    "        print(f\"The result is: {num1 + num2}\")\n",
    "    elif choice == '2':\n",
    "        print(f\"The result is: {num1 - num2}\")\n",
    "    elif choice == '3':\n",
    "        print(f\"The result is: {num1 * num2}\")\n",
    "    elif choice == '4':\n",
    "        if num2 == 0:\n",
    "            print(\"Error! Division by zero.\")\n",
    "        else:\n",
    "            print(f\"The result is: {num1 / num2}\")\n",
    "    else:\n",
    "        print(\"Invalid Input\")\n",
    "\n",
    "calculator()\n"
   ]
  },
  {
   "cell_type": "code",
   "execution_count": null,
   "id": "1ce44244-cdb5-44dd-8dc2-c6e531ba1b63",
   "metadata": {},
   "outputs": [],
   "source": []
  }
 ],
 "metadata": {
  "kernelspec": {
   "display_name": "Python 3 (ipykernel)",
   "language": "python",
   "name": "python3"
  },
  "language_info": {
   "codemirror_mode": {
    "name": "ipython",
    "version": 3
   },
   "file_extension": ".py",
   "mimetype": "text/x-python",
   "name": "python",
   "nbconvert_exporter": "python",
   "pygments_lexer": "ipython3",
   "version": "3.12.5"
  }
 },
 "nbformat": 4,
 "nbformat_minor": 5
}
