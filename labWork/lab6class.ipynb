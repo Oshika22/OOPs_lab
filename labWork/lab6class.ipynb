{
 "cells": [
  {
   "cell_type": "markdown",
   "id": "bdf2abc2-6ac8-4959-907b-babe82887d79",
   "metadata": {},
   "source": [
    "LAB 6"
   ]
  },
  {
   "cell_type": "markdown",
   "id": "aed54ab8-2943-473a-9862-c45ed26ac7de",
   "metadata": {},
   "source": [
    "**Write a program to create a class called \"Person\" with a name and age attribute. Create two instances of the \"Person\" class, set their attributes using the constructor, and print their name and age.**"
   ]
  },
  {
   "cell_type": "code",
   "execution_count": 3,
   "id": "0d506410-0c08-451a-ba06-5bd4b4b23893",
   "metadata": {},
   "outputs": [
    {
     "name": "stdout",
     "output_type": "stream",
     "text": [
      "asdfg\n",
      "234\n"
     ]
    }
   ],
   "source": [
    "class Person:\n",
    "    def __init__(self,name,age):\n",
    "        self.name = name\n",
    "        self.age = age\n",
    "\n",
    "p1 = Person(\"asdfg\",234)\n",
    "\n",
    "print(p1.name)\n",
    "print(p1.age)"
   ]
  },
  {
   "cell_type": "markdown",
   "id": "01d7e3c5-d3e7-42b5-9379-a040d64f29b4",
   "metadata": {},
   "source": [
    "**2. Create a class named 'Student' with String variable 'name' and integer variable 'roll_no'. Assign the value of roll no as '2' and that of name as \"John\" by creating an object of the class Student.**"
   ]
  },
  {
   "cell_type": "code",
   "execution_count": 5,
   "id": "43d1c136-5407-4220-bcac-b7bd9f467fa3",
   "metadata": {},
   "outputs": [
    {
     "name": "stdout",
     "output_type": "stream",
     "text": [
      "John 2\n"
     ]
    }
   ],
   "source": [
    "class Student:\n",
    "    def __init__(self,name,roll):\n",
    "        self.name = name\n",
    "        self.roll = roll\n",
    "\n",
    "s1 = Student(\"John\",2)\n",
    "print(s1.name,s1.roll)\n"
   ]
  },
  {
   "cell_type": "markdown",
   "id": "d86a6ce6-ae70-4410-8c0b-ea902315687a",
   "metadata": {},
   "source": [
    "**3. Write a program to define a class to represent a bank account, with methods to deposit, withdraw, and check the balance.**"
   ]
  },
  {
   "cell_type": "code",
   "execution_count": 6,
   "id": "188d01f6-4900-4661-a18b-f2b4ea0de5d9",
   "metadata": {},
   "outputs": [
    {
     "name": "stdout",
     "output_type": "stream",
     "text": [
      "Deposited: 500\n",
      "Withdrawn: 200\n",
      "Balance: 1300\n"
     ]
    }
   ],
   "source": [
    "class BankAccount:\n",
    "    def __init__(self, balance=0):\n",
    "        self.balance = balance\n",
    "\n",
    "    def deposit(self, amount):\n",
    "        self.balance += amount\n",
    "        print(f\"Deposited: {amount}\")\n",
    "\n",
    "    def withdraw(self, amount):\n",
    "        if amount <= self.balance:\n",
    "            self.balance -= amount\n",
    "            print(f\"Withdrawn: {amount}\")\n",
    "        else:\n",
    "            print(\"Insufficient funds\")\n",
    "\n",
    "    def check_balance(self):\n",
    "        print(f\"Balance: {self.balance}\")\n",
    "\n",
    "account = BankAccount(1000)\n",
    "account.deposit(500)\n",
    "account.withdraw(200)\n",
    "account.check_balance()"
   ]
  },
  {
   "cell_type": "markdown",
   "id": "87db6bfd-5f81-49fa-a601-a2fa91f1d5da",
   "metadata": {},
   "source": [
    "**4. Define a class Student with attributes like name and age, and create objects to represent different students.**"
   ]
  },
  {
   "cell_type": "code",
   "execution_count": 7,
   "id": "badd6e65-785e-485e-b80b-f3832ce9168f",
   "metadata": {},
   "outputs": [
    {
     "name": "stdout",
     "output_type": "stream",
     "text": [
      "Student 1: Name = Alice, Age = 20\n",
      "Student 2: Name = Bob, Age = 22\n"
     ]
    }
   ],
   "source": [
    "class Student:\n",
    "    def __init__(self, name, age):\n",
    "        self.name = name\n",
    "        self.age = age\n",
    "\n",
    "student1 = Student(\"Alice\", 20)\n",
    "student2 = Student(\"Bob\", 22)\n",
    "\n",
    "print(f\"Student 1: Name = {student1.name}, Age = {student1.age}\")\n",
    "print(f\"Student 2: Name = {student2.name}, Age = {student2.age}\")\n"
   ]
  },
  {
   "cell_type": "code",
   "execution_count": null,
   "id": "a682b962-3b98-47d2-aaca-6708d52e4378",
   "metadata": {},
   "outputs": [],
   "source": []
  }
 ],
 "metadata": {
  "kernelspec": {
   "display_name": "Python 3 (ipykernel)",
   "language": "python",
   "name": "python3"
  },
  "language_info": {
   "codemirror_mode": {
    "name": "ipython",
    "version": 3
   },
   "file_extension": ".py",
   "mimetype": "text/x-python",
   "name": "python",
   "nbconvert_exporter": "python",
   "pygments_lexer": "ipython3",
   "version": "3.12.5"
  }
 },
 "nbformat": 4,
 "nbformat_minor": 5
}
