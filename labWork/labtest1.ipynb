{
 "cells": [
  {
   "cell_type": "markdown",
   "id": "e9790cf5-9ea9-48b8-b86a-fc8a46ecaf7e",
   "metadata": {},
   "source": [
    "**WAP to print the pattern**"
   ]
  },
  {
   "cell_type": "code",
   "execution_count": 34,
   "id": "e966c453-72ed-4771-ad90-90ef9530b471",
   "metadata": {},
   "outputs": [
    {
     "name": "stdin",
     "output_type": "stream",
     "text": [
      "Enter a no of rows 5\n"
     ]
    },
    {
     "name": "stdout",
     "output_type": "stream",
     "text": [
      "        1 \n",
      "      2 3 4 \n",
      "    5 6 7 8 9 \n",
      "  10 11 12 13 14 15 16 \n",
      "17 18 19 20 21 22 23 24 25 \n"
     ]
    }
   ],
   "source": [
    "n = int(input(\"Enter a no of rows\"))\n",
    "k=1\n",
    "a = 1\n",
    "for i in range(1,n+1):\n",
    "    for s  in range(n,i,-1):\n",
    "        print(end= \"  \")\n",
    "    for j in range(1, i+a):\n",
    "        print(k, end = \" \")\n",
    "        k +=1\n",
    "    a +=1\n",
    "    print()"
   ]
  },
  {
   "cell_type": "markdown",
   "id": "62eee0b0-f595-462e-8cfa-a97103a6dc3f",
   "metadata": {},
   "source": [
    "**wap to check strong no.**"
   ]
  },
  {
   "cell_type": "code",
   "execution_count": 5,
   "id": "73a39875-88a5-4510-9dd2-a7cd25c61eed",
   "metadata": {},
   "outputs": [
    {
     "name": "stdin",
     "output_type": "stream",
     "text": [
      "Enter a no. 145\n"
     ]
    },
    {
     "name": "stdout",
     "output_type": "stream",
     "text": [
      "Strong no.\n"
     ]
    }
   ],
   "source": [
    "n = int(input(\"Enter a no.\"))\n",
    "temp = n\n",
    "sum = 0\n",
    "\n",
    "while n != 0:\n",
    "    fact = 1\n",
    "    rem = n%10\n",
    "    for i in range(1,rem +1):\n",
    "        fact *= i\n",
    "    sum += fact\n",
    "    n = n//10\n",
    "\n",
    "if sum == temp:\n",
    "    print(\"Strong no.\")\n",
    "else: \n",
    "    print(\"Not a strong no.\")"
   ]
  },
  {
   "cell_type": "markdown",
   "id": "f348f265-1691-4082-8d79-06acc9e70bad",
   "metadata": {},
   "source": [
    "**WAP to print fibonacci series**"
   ]
  },
  {
   "cell_type": "code",
   "execution_count": 26,
   "id": "2e936d91-63c9-4a7b-b595-8b6cdf7b92cd",
   "metadata": {},
   "outputs": [
    {
     "name": "stdin",
     "output_type": "stream",
     "text": [
      "Enter a no. 5\n"
     ]
    },
    {
     "name": "stdout",
     "output_type": "stream",
     "text": [
      "1 \n",
      "2 \n",
      "3 \n",
      "5 \n",
      "8 \n"
     ]
    }
   ],
   "source": [
    "def fibo(n):\n",
    "    num1 = 0\n",
    "    num2 = 1\n",
    "    next_num = num2\n",
    "    for i in range(1,n+1):\n",
    "        print(next_num, end=\" \")\n",
    "        num1,num2 = num2,next_num\n",
    "        next_num = num1+num2\n",
    "        print()\n",
    "n = int(input(\"Enter a no.\"))\n",
    "fibo(n)\n",
    "    "
   ]
  },
  {
   "cell_type": "markdown",
   "id": "1c1e3aa9-70ac-462a-9146-a0821afd0a41",
   "metadata": {},
   "source": [
    "**WAP to calculate factorial of a no.**"
   ]
  },
  {
   "cell_type": "code",
   "execution_count": 23,
   "id": "99c44ebf-2a97-4dde-9dc5-ec32ef7ab113",
   "metadata": {},
   "outputs": [
    {
     "name": "stdin",
     "output_type": "stream",
     "text": [
      "Enter a no. 5\n"
     ]
    },
    {
     "name": "stdout",
     "output_type": "stream",
     "text": [
      "factorial of a no. is 120\n"
     ]
    }
   ],
   "source": [
    "def factorial(n):\n",
    "    fact = 1\n",
    "    for i in range(1,n+1):\n",
    "        fact *= i\n",
    "    return fact\n",
    "n = int(input(\"Enter a no.\"))\n",
    "\n",
    "print(\"factorial of a no. is\", factorial(n))"
   ]
  },
  {
   "cell_type": "markdown",
   "id": "53910f4c-15e4-437b-9fc1-73463f8854ac",
   "metadata": {},
   "source": [
    "**WAP for calculator**"
   ]
  },
  {
   "cell_type": "code",
   "execution_count": 10,
   "id": "017fd477-8089-4369-b4c3-99184e503cd6",
   "metadata": {},
   "outputs": [
    {
     "name": "stdout",
     "output_type": "stream",
     "text": [
      "1. to Add\n",
      "2. t0 sub\n",
      "3. to multiply\n",
      "4. to devide\n"
     ]
    },
    {
     "name": "stdin",
     "output_type": "stream",
     "text": [
      "Enter the choice : 4\n",
      "Enter first no. : 4\n",
      "Enter second no. : 2\n"
     ]
    },
    {
     "name": "stdout",
     "output_type": "stream",
     "text": [
      "div is  2.0\n"
     ]
    }
   ],
   "source": [
    "print(\"1. to Add\")\n",
    "print(\"2. t0 sub\")\n",
    "print(\"3. to multiply\")\n",
    "print(\"4. to devide\")\n",
    "c = int(input(\"Enter the choice :\"))\n",
    "n1 = int(input(\"Enter first no. :\"))\n",
    "n2 = int(input(\"Enter second no. :\"))\n",
    "if c == 1:\n",
    "    print(\"sum is \", n1+n2)\n",
    "if c== 2:\n",
    "   print(\"sub is \", n1-n2) \n",
    "if c == 3:\n",
    "    print(\"product is \", n1*n2)\n",
    "if c == 4:\n",
    "    print(\"div is \", n1/n2)"
   ]
  },
  {
   "cell_type": "code",
   "execution_count": null,
   "id": "f878c427-6b21-4ea1-83a3-8e11cfc20040",
   "metadata": {},
   "outputs": [],
   "source": []
  }
 ],
 "metadata": {
  "kernelspec": {
   "display_name": "Python 3 (ipykernel)",
   "language": "python",
   "name": "python3"
  },
  "language_info": {
   "codemirror_mode": {
    "name": "ipython",
    "version": 3
   },
   "file_extension": ".py",
   "mimetype": "text/x-python",
   "name": "python",
   "nbconvert_exporter": "python",
   "pygments_lexer": "ipython3",
   "version": "3.12.5"
  }
 },
 "nbformat": 4,
 "nbformat_minor": 5
}
