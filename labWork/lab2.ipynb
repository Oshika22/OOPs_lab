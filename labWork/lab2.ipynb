{
 "cells": [
  {
   "cell_type": "markdown",
   "id": "4770f0d5-ee1d-40cc-978c-ca1eeee323e3",
   "metadata": {},
   "source": [
    "**WAP to calculate armstrong or not**"
   ]
  },
  {
   "cell_type": "code",
   "execution_count": 5,
   "id": "0828b13f-be14-40d1-9e70-35b2cb7c8015",
   "metadata": {},
   "outputs": [
    {
     "name": "stdin",
     "output_type": "stream",
     "text": [
      "enter a no 12345\n"
     ]
    },
    {
     "name": "stdout",
     "output_type": "stream",
     "text": [
      "not armstrong\n"
     ]
    }
   ],
   "source": [
    "n = int(input(\"enter a no\"))\n",
    "temp = n\n",
    "sum=0\n",
    "while n !=0:\n",
    "    dig = n%10\n",
    "    sum+=dig**3\n",
    "    n = n//10\n",
    "if temp == sum:\n",
    "    print(\"armstrong\")\n",
    "else:\n",
    "    print(\"not armstrong\")\n"
   ]
  },
  {
   "cell_type": "markdown",
   "id": "f208cf52-8b5d-43ba-bb86-fe9163bb6b1b",
   "metadata": {},
   "source": [
    "**WAP if a no. is perfect or not**"
   ]
  },
  {
   "cell_type": "code",
   "execution_count": 4,
   "id": "960d4762-ea9d-4aea-87e4-aec385c2496e",
   "metadata": {},
   "outputs": [
    {
     "name": "stdin",
     "output_type": "stream",
     "text": [
      "enter a no. 2\n"
     ]
    },
    {
     "name": "stdout",
     "output_type": "stream",
     "text": [
      "good\n"
     ]
    }
   ],
   "source": [
    "n = int(input(\"enter a no.\"))\n",
    "sum = 0\n",
    "for i in range(1,n):\n",
    "    if n%i == 0:\n",
    "        sum += i\n",
    "if n == sum:\n",
    "    print(\"perfect!!\")\n",
    "else:\n",
    "    print(\"good\")\n"
   ]
  },
  {
   "cell_type": "markdown",
   "id": "37885421-0348-4508-a759-5373dccd8575",
   "metadata": {},
   "source": [
    "**WAP to reverse a No.**"
   ]
  },
  {
   "cell_type": "code",
   "execution_count": 10,
   "id": "d661c216-8f0c-4b7f-afde-782d3414a879",
   "metadata": {},
   "outputs": [
    {
     "name": "stdin",
     "output_type": "stream",
     "text": [
      "Enter a no. 1234567\n"
     ]
    },
    {
     "name": "stdout",
     "output_type": "stream",
     "text": [
      "7654321\n"
     ]
    }
   ],
   "source": [
    "n = int(input(\"Enter a no.\"))\n",
    "temp = n\n",
    "rem = 1\n",
    "rev = 0 \n",
    "while n != 0:\n",
    "    rem = n%10\n",
    "    rev = rev*10 + rem\n",
    "    n = n//10\n",
    "print(rev)"
   ]
  },
  {
   "cell_type": "markdown",
   "id": "eecc3c0b-f4ab-4365-b708-7e2edd09438f",
   "metadata": {},
   "source": [
    "**WAP to find strong no.**"
   ]
  },
  {
   "cell_type": "code",
   "execution_count": 2,
   "id": "8675f41e-c5e4-4700-86bf-007e2127dc79",
   "metadata": {},
   "outputs": [
    {
     "name": "stdin",
     "output_type": "stream",
     "text": [
      "Enter a no. 123\n"
     ]
    },
    {
     "name": "stdout",
     "output_type": "stream",
     "text": [
      "nope\n"
     ]
    }
   ],
   "source": [
    "n = int(input(\"Enter a no.\"))\n",
    "temp = n\n",
    "sum = 0\n",
    "fact = 1\n",
    "while n != 0:\n",
    "    rem = n%10\n",
    "    for i in range(1,rem+1):\n",
    "        fact *= i\n",
    "    sum += fact\n",
    "    n = n//10\n",
    "if temp == sum :\n",
    "    print(\"Strong no.\")\n",
    "else:\n",
    "    print(\"nope\")"
   ]
  },
  {
   "cell_type": "markdown",
   "id": "be0ff8a6-604d-44d0-80d8-cfdcdaf0af69",
   "metadata": {},
   "source": [
    "**WAP to find Sum of digits**"
   ]
  },
  {
   "cell_type": "code",
   "execution_count": 4,
   "id": "9a0ded9e-ba2e-41df-9cc4-61a3b679e179",
   "metadata": {},
   "outputs": [
    {
     "name": "stdin",
     "output_type": "stream",
     "text": [
      "enter a no. 9999999999999999999999999999999999999999999999999\n"
     ]
    },
    {
     "name": "stdout",
     "output_type": "stream",
     "text": [
      "441\n"
     ]
    }
   ],
   "source": [
    "n = int(input(\"enter a no.\"))\n",
    "sum = 0\n",
    "while n != 0:\n",
    "    rem = n%10\n",
    "    sum += rem\n",
    "    n = n//10\n",
    "print(sum)"
   ]
  },
  {
   "cell_type": "markdown",
   "id": "f585efac-7a76-41df-8785-25fe92a39c2b",
   "metadata": {},
   "source": [
    "**WAP to find prime or not**"
   ]
  },
  {
   "cell_type": "code",
   "execution_count": 6,
   "id": "3d4b3b0a-8c68-4a76-ade6-42017e615548",
   "metadata": {},
   "outputs": [
    {
     "name": "stdin",
     "output_type": "stream",
     "text": [
      "Enter a number 14\n"
     ]
    },
    {
     "name": "stdout",
     "output_type": "stream",
     "text": [
      "false\n"
     ]
    }
   ],
   "source": [
    "n = int(input(\"Enter a number\"))\n",
    "prime = \"true\"\n",
    "for i in range(2,n):\n",
    "    if n%i == 0:\n",
    "        prime = \"false\"\n",
    "print(prime)"
   ]
  },
  {
   "cell_type": "markdown",
   "id": "59365ab9-d921-4340-83ba-ec71c0ee4583",
   "metadata": {},
   "source": [
    "**WAP to find factoral of a no.**"
   ]
  },
  {
   "cell_type": "code",
   "execution_count": 9,
   "id": "06e8ae89-a4c2-46d2-ac42-93dd21e4821a",
   "metadata": {},
   "outputs": [
    {
     "name": "stdin",
     "output_type": "stream",
     "text": [
      "enter a No 6\n"
     ]
    },
    {
     "name": "stdout",
     "output_type": "stream",
     "text": [
      "720\n"
     ]
    }
   ],
   "source": [
    "n = int(input(\"enter a No\"))\n",
    "fact = 1\n",
    "for i in range(1,n+1):\n",
    "    fact *= i\n",
    "print(fact)"
   ]
  },
  {
   "cell_type": "markdown",
   "id": "e16b2322-d354-4ad8-976e-b2b59904a1a3",
   "metadata": {},
   "source": [
    "**WAP to find factorial of a no form 1 to 50 and print them**"
   ]
  },
  {
   "cell_type": "code",
   "execution_count": 16,
   "id": "07f1ff63-1e76-4486-80c9-fc879f617cc4",
   "metadata": {},
   "outputs": [
    {
     "name": "stdin",
     "output_type": "stream",
     "text": [
      "Enter a no. 50\n"
     ]
    },
    {
     "name": "stdout",
     "output_type": "stream",
     "text": [
      "Factorial of 1 is  1\n",
      "Factorial of 2 is  2\n",
      "Factorial of 3 is  6\n",
      "Factorial of 4 is  24\n",
      "Factorial of 5 is  120\n",
      "Factorial of 6 is  720\n",
      "Factorial of 7 is  5040\n",
      "Factorial of 8 is  40320\n",
      "Factorial of 9 is  362880\n",
      "Factorial of 10 is  3628800\n",
      "Factorial of 11 is  39916800\n",
      "Factorial of 12 is  479001600\n",
      "Factorial of 13 is  6227020800\n",
      "Factorial of 14 is  87178291200\n",
      "Factorial of 15 is  1307674368000\n",
      "Factorial of 16 is  20922789888000\n",
      "Factorial of 17 is  355687428096000\n",
      "Factorial of 18 is  6402373705728000\n",
      "Factorial of 19 is  121645100408832000\n",
      "Factorial of 20 is  2432902008176640000\n",
      "Factorial of 21 is  51090942171709440000\n",
      "Factorial of 22 is  1124000727777607680000\n",
      "Factorial of 23 is  25852016738884976640000\n",
      "Factorial of 24 is  620448401733239439360000\n",
      "Factorial of 25 is  15511210043330985984000000\n",
      "Factorial of 26 is  403291461126605635584000000\n",
      "Factorial of 27 is  10888869450418352160768000000\n",
      "Factorial of 28 is  304888344611713860501504000000\n",
      "Factorial of 29 is  8841761993739701954543616000000\n",
      "Factorial of 30 is  265252859812191058636308480000000\n",
      "Factorial of 31 is  8222838654177922817725562880000000\n",
      "Factorial of 32 is  263130836933693530167218012160000000\n",
      "Factorial of 33 is  8683317618811886495518194401280000000\n",
      "Factorial of 34 is  295232799039604140847618609643520000000\n",
      "Factorial of 35 is  10333147966386144929666651337523200000000\n",
      "Factorial of 36 is  371993326789901217467999448150835200000000\n",
      "Factorial of 37 is  13763753091226345046315979581580902400000000\n",
      "Factorial of 38 is  523022617466601111760007224100074291200000000\n",
      "Factorial of 39 is  20397882081197443358640281739902897356800000000\n",
      "Factorial of 40 is  815915283247897734345611269596115894272000000000\n",
      "Factorial of 41 is  33452526613163807108170062053440751665152000000000\n",
      "Factorial of 42 is  1405006117752879898543142606244511569936384000000000\n",
      "Factorial of 43 is  60415263063373835637355132068513997507264512000000000\n",
      "Factorial of 44 is  2658271574788448768043625811014615890319638528000000000\n",
      "Factorial of 45 is  119622220865480194561963161495657715064383733760000000000\n",
      "Factorial of 46 is  5502622159812088949850305428800254892961651752960000000000\n",
      "Factorial of 47 is  258623241511168180642964355153611979969197632389120000000000\n",
      "Factorial of 48 is  12413915592536072670862289047373375038521486354677760000000000\n",
      "Factorial of 49 is  608281864034267560872252163321295376887552831379210240000000000\n",
      "Factorial of 50 is  30414093201713378043612608166064768844377641568960512000000000000\n"
     ]
    }
   ],
   "source": [
    "n = int(input(\"Enter a no.\"))\n",
    "fact = 1\n",
    "for i in range(1,n+1):\n",
    "    fact *= i\n",
    "    print(\"Factorial of\",i,\"is \",fact)"
   ]
  },
  {
   "cell_type": "markdown",
   "id": "a244e65b-5ad2-41d5-afd1-4b3052347c0c",
   "metadata": {},
   "source": [
    "**Fibbonacci up to 10**"
   ]
  },
  {
   "cell_type": "code",
   "execution_count": 15,
   "id": "6ded9b35-51bb-4be3-9f68-2042b52141d2",
   "metadata": {},
   "outputs": [
    {
     "name": "stdout",
     "output_type": "stream",
     "text": [
      "153.93804002589985\n"
     ]
    }
   ],
   "source": [
    "import math\n",
    "r = 7\n",
    "ar = math.pi*r*r\n",
    "print(ar)"
   ]
  },
  {
   "cell_type": "markdown",
   "id": "4d3fd4a6-3f18-439f-aa18-4953c864727c",
   "metadata": {},
   "source": [
    "**WAP to print tables**"
   ]
  },
  {
   "cell_type": "code",
   "execution_count": 1,
   "id": "a15b4b15-14ff-4c76-9c38-a79e36b0ca07",
   "metadata": {},
   "outputs": [
    {
     "name": "stdin",
     "output_type": "stream",
     "text": [
      "Enter a no. 2\n"
     ]
    },
    {
     "name": "stdout",
     "output_type": "stream",
     "text": [
      "2\n",
      "4\n",
      "6\n",
      "8\n",
      "10\n",
      "12\n",
      "14\n",
      "16\n",
      "18\n",
      "20\n"
     ]
    }
   ],
   "source": [
    "n = int(input(\"Enter a no.\"))\n",
    "for i in range(1,11):\n",
    "    print(i*n)\n",
    "    "
   ]
  },
  {
   "cell_type": "markdown",
   "id": "e57cd3e0-27bb-4662-8eac-04f6517263a1",
   "metadata": {},
   "source": [
    "**WAP to find GCD and LCM**"
   ]
  },
  {
   "cell_type": "code",
   "execution_count": 1,
   "id": "7d8609db-54b5-4650-9eee-ad81b6f7a92d",
   "metadata": {},
   "outputs": [
    {
     "name": "stdin",
     "output_type": "stream",
     "text": [
      "Enter first number:  5\n",
      "Enter second number:  15\n"
     ]
    },
    {
     "name": "stdout",
     "output_type": "stream",
     "text": [
      "The GCD of 5 and 15 is: 5\n",
      "The LCM of 5 and 15 is: 15\n"
     ]
    }
   ],
   "source": [
    "import math\n",
    "\n",
    "# Function to calculate GCD\n",
    "def calculate_gcd(x, y):\n",
    "    return math.gcd(x, y)\n",
    "\n",
    "# Function to calculate LCM\n",
    "def calculate_lcm(x, y):\n",
    "    gcd = calculate_gcd(x, y)\n",
    "    return abs(x * y) // gcd  # LCM formula: |x * y| / GCD(x, y)\n",
    "\n",
    "# Input numbers\n",
    "num1 = int(input(\"Enter first number: \"))\n",
    "num2 = int(input(\"Enter second number: \"))\n",
    "\n",
    "# Calculate GCD and LCM\n",
    "gcd = calculate_gcd(num1, num2)\n",
    "lcm = calculate_lcm(num1, num2)\n",
    "\n",
    "# Display results\n",
    "print(f\"The GCD of {num1} and {num2} is: {gcd}\")\n",
    "print(f\"The LCM of {num1} and {num2} is: {lcm}\")\n"
   ]
  },
  {
   "cell_type": "code",
   "execution_count": null,
   "id": "70ece9af-4d05-45d6-b778-082b220c9591",
   "metadata": {},
   "outputs": [],
   "source": []
  }
 ],
 "metadata": {
  "kernelspec": {
   "display_name": "Python 3 (ipykernel)",
   "language": "python",
   "name": "python3"
  },
  "language_info": {
   "codemirror_mode": {
    "name": "ipython",
    "version": 3
   },
   "file_extension": ".py",
   "mimetype": "text/x-python",
   "name": "python",
   "nbconvert_exporter": "python",
   "pygments_lexer": "ipython3",
   "version": "3.12.5"
  }
 },
 "nbformat": 4,
 "nbformat_minor": 5
}
