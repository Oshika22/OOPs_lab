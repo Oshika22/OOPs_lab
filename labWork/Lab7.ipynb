{
 "cells": [
  {
   "cell_type": "markdown",
   "id": "ff8a7238-1e3b-4016-ba98-aa4b9af9514b",
   "metadata": {},
   "source": [
    "Question: Create a class Person with attributes name and age, and a method display() that prints the name and age. Then, create a subclass Student that inherits from Person and adds an attribute student_id. Write a method show_details() in Student to print all details, including student_id.\n",
    "Question: Create a class Vehicle with a method info() that prints \"This is a vehicle\". Inherit Car from Vehicle and add a method car_info() to print \"This is a car\". Further, create another subclass ElectricCar that inherits from Car and adds a method battery_info() to print \"This car has a battery.\" Demonstrate how multilevel inheritance works by calling all methods from an ElectricCar object.\n",
    "Question: Create two classes Teacher and Author, each with their own description() method to describe the profession. Then, create a subclass TutorAuthor that inherits from both Teacher and Author. Use this subclass to call the description() method from each parent class. Use the super() function to resolve any conflicts if necessary.\n",
    "Question: Create a class Animal with a method sound() that prints \"Animals make sound\". Then create two subclasses Dog and Cat, each with their own version of sound() method that prints \"Dog barks\" and \"Cat meows\" respectively. Demonstrate hierarchical inheritance by calling the sound() method from both Dog and Cat objects."
   ]
  },
  {
   "cell_type": "markdown",
   "id": "1fb72238-f8af-439a-a4ec-121eaffaddb6",
   "metadata": {},
   "source": [
    "**Create a class Person with attributes name and age, and a method display() that prints the name and age. Then, create a subclass Student that inherits from Person and adds an attribute student_id. Write a method show_details() in Student to print all details, including student_id.**"
   ]
  },
  {
   "cell_type": "code",
   "execution_count": 2,
   "id": "caefd2ff-3cf0-4163-b03b-b80ef652ca9b",
   "metadata": {},
   "outputs": [
    {
     "name": "stdout",
     "output_type": "stream",
     "text": [
      "Name: Alice, Age: 20\n",
      "Student ID: S12345\n"
     ]
    }
   ],
   "source": [
    "class Person:\n",
    "    def __init__(self, name, age):\n",
    "        self.name = name\n",
    "        self.age = age\n",
    "\n",
    "    def display(self):\n",
    "        print(f\"Name: {self.name}, Age: {self.age}\")\n",
    "\n",
    "class Student(Person):\n",
    "    def __init__(self, name, age, student_id):\n",
    "        super().__init__(name, age)\n",
    "        self.student_id = student_id\n",
    "\n",
    "    def show_details(self):\n",
    "        self.display()\n",
    "        print(f\"Student ID: {self.student_id}\")\n",
    "\n",
    "\n",
    "student = Student(\"Alice\", 20, \"S12345\")\n",
    "student.show_details()\n",
    "\n"
   ]
  },
  {
   "cell_type": "markdown",
   "id": "57b651e7-1af6-4a94-8322-5a9b707f8e9a",
   "metadata": {},
   "source": [
    "**Vehicle, Car, and ElectricCar classes with multilevel inheritance**"
   ]
  },
  {
   "cell_type": "code",
   "execution_count": 4,
   "id": "a0ee6600-0f6c-4516-a762-49d0ea1b6816",
   "metadata": {},
   "outputs": [
    {
     "name": "stdout",
     "output_type": "stream",
     "text": [
      "This is a vehicle\n",
      "This is a car\n",
      "This car has a battery\n"
     ]
    }
   ],
   "source": [
    "class Vehicle:\n",
    "    def info(self):\n",
    "        print(\"This is a vehicle\")\n",
    "\n",
    "class Car(Vehicle):\n",
    "    def car_info(self):\n",
    "        print(\"This is a car\")\n",
    "\n",
    "class ElectricCar(Car):\n",
    "    def battery_info(self):\n",
    "        print(\"This car has a battery\")\n",
    "\n",
    "# multilevel inheritance\n",
    "electric_car = ElectricCar()\n",
    "electric_car.info()\n",
    "electric_car.car_info()\n",
    "electric_car.battery_info()"
   ]
  },
  {
   "cell_type": "markdown",
   "id": "77261d16-01f3-4dc9-bea3-43263e27295d",
   "metadata": {},
   "source": [
    "**Create two classes Teacher and Author, each with their own description() method to describe the profession. Then, create a subclass TutorAuthor that inherits from both Teacher and Author. Use this subclass to call the description() method from each parent class. Use the super() function to resolve any conflicts if necessary.**"
   ]
  },
  {
   "cell_type": "code",
   "execution_count": 6,
   "id": "09d0a12d-9bd1-4299-9354-85aae9ab18d4",
   "metadata": {},
   "outputs": [
    {
     "name": "stdout",
     "output_type": "stream",
     "text": [
      "This is an Author\n",
      "This is a Teacher\n",
      "This is an Author\n"
     ]
    }
   ],
   "source": [
    "class Teacher:\n",
    "    def description(self):\n",
    "        print(\"This is a Teacher\")\n",
    "\n",
    "class Author:\n",
    "    def description(self):\n",
    "        print(\"This is an Author\")\n",
    "\n",
    "class TutorAuthor(Teacher, Author):\n",
    "    def show_descriptions(self):\n",
    "        super(Teacher, self).description()  \n",
    "        Teacher.description(self)\n",
    "        Author.description(self)\n",
    "\n",
    "tutor_author = TutorAuthor()\n",
    "tutor_author.show_descriptions()"
   ]
  },
  {
   "cell_type": "markdown",
   "id": "aaedb5e3-3eda-4131-a224-e6cc91b397b1",
   "metadata": {},
   "source": [
    "**Create a class Animal with a method sound() that prints \"Animals make sound\". Then create two subclasses Dog and Cat, each with their own version of sound() method that prints \"Dog barks\" and \"Cat meows\" respectively. Demonstrate hierarchical inheritance by calling the sound() method from both Dog and Cat objects.**"
   ]
  },
  {
   "cell_type": "code",
   "execution_count": 1,
   "id": "eaf918a9-08f8-4097-83da-8598678b07d0",
   "metadata": {},
   "outputs": [
    {
     "name": "stdout",
     "output_type": "stream",
     "text": [
      "Dog barks\n",
      "Cats meows\n"
     ]
    }
   ],
   "source": [
    "class Animal:\n",
    "    def sound(self):\n",
    "        print(\"Animals make sound\")\n",
    "\n",
    "class Dog(Animal):\n",
    "    def sound(self):\n",
    "        print(\"Dog barks\")\n",
    "class Cat(Animal):\n",
    "    def sound(self):\n",
    "        print(\"Cats meows\")\n",
    "\n",
    "dog = Dog()\n",
    "cat = Cat()\n",
    "\n",
    "dog.sound()\n",
    "cat.sound()"
   ]
  },
  {
   "cell_type": "code",
   "execution_count": null,
   "id": "d18bdd08-0e78-4445-ba70-c4373b485ec1",
   "metadata": {},
   "outputs": [],
   "source": []
  }
 ],
 "metadata": {
  "kernelspec": {
   "display_name": "Python 3 (ipykernel)",
   "language": "python",
   "name": "python3"
  },
  "language_info": {
   "codemirror_mode": {
    "name": "ipython",
    "version": 3
   },
   "file_extension": ".py",
   "mimetype": "text/x-python",
   "name": "python",
   "nbconvert_exporter": "python",
   "pygments_lexer": "ipython3",
   "version": "3.12.5"
  }
 },
 "nbformat": 4,
 "nbformat_minor": 5
}
