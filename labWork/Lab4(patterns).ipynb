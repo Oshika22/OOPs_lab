{
 "cells": [
  {
   "cell_type": "markdown",
   "id": "e10d03df-ad4a-440b-9a9b-13a85652b13d",
   "metadata": {},
   "source": [
    "**1. Write a program to print the following pattern:**"
   ]
  },
  {
   "cell_type": "code",
   "execution_count": 1,
   "id": "23468a36-38c0-468a-96d8-81d427311545",
   "metadata": {},
   "outputs": [
    {
     "name": "stdout",
     "output_type": "stream",
     "text": [
      "1\n",
      "2 2\n",
      "3 3 3\n",
      "4 4 4 4\n",
      "5 5 5 5 5\n"
     ]
    }
   ],
   "source": [
    "for i in range(1, 6):\n",
    "    print(' '.join([str(i)] * i))\n"
   ]
  },
  {
   "cell_type": "markdown",
   "id": "4078f2c7-8538-47e1-a6ef-a0f0ee33cabc",
   "metadata": {},
   "source": [
    "**2.Inverted Pyramid of Numbers**"
   ]
  },
  {
   "cell_type": "code",
   "execution_count": 3,
   "id": "284940c0-b5b2-415a-ac47-c370e68e3f08",
   "metadata": {},
   "outputs": [
    {
     "name": "stdout",
     "output_type": "stream",
     "text": [
      "1 1 1 1 1\n",
      " 2 2 2 2\n",
      "  3 3 3\n",
      "   4 4\n",
      "    5\n"
     ]
    }
   ],
   "source": [
    "for i in range(1, 6):\n",
    "    print(' ' * (i - 1) + ' '.join([str(i)] * (6 - i)))\n"
   ]
  },
  {
   "cell_type": "markdown",
   "id": "d8a8f1d2-7411-4a26-8328-e1a1941f8167",
   "metadata": {},
   "source": [
    "**3.Half Pyramid Pattern of Numbers**"
   ]
  },
  {
   "cell_type": "code",
   "execution_count": 4,
   "id": "92c1d167-6e5e-4575-bb43-ec9f75fb1bf7",
   "metadata": {},
   "outputs": [
    {
     "name": "stdout",
     "output_type": "stream",
     "text": [
      "    1\n",
      "   1 2\n",
      "  1 2 3\n",
      " 1 2 3 4\n",
      "1 2 3 4 5\n"
     ]
    }
   ],
   "source": [
    "for i in range(1, 6):\n",
    "    print(' ' * (5 - i) + ' '.join(str(x) for x in range(1, i + 1)))\n"
   ]
  },
  {
   "cell_type": "markdown",
   "id": "1648b2ba-5cf5-41ae-92a8-1f408cf9f634",
   "metadata": {},
   "source": [
    "**4.Inverted Pyramid of Descending Number**"
   ]
  },
  {
   "cell_type": "code",
   "execution_count": 5,
   "id": "0b199536-0af0-45f2-9c0e-0a2f76e29d2d",
   "metadata": {},
   "outputs": [
    {
     "name": "stdout",
     "output_type": "stream",
     "text": [
      "5 5 5 5 5\n",
      " 4 4 4 4\n",
      "  3 3 3\n",
      "   2 2\n",
      "    1\n"
     ]
    }
   ],
   "source": [
    "for i in range(5, 0, -1):\n",
    "    print(' ' * (5 - i) + ' '.join([str(i)] * i))"
   ]
  },
  {
   "cell_type": "markdown",
   "id": "1309c5cb-a718-4eb7-be9c-4a6c153295a6",
   "metadata": {},
   "source": [
    "**5.Inverted Pyramid of the Same Digit**"
   ]
  },
  {
   "cell_type": "code",
   "execution_count": 7,
   "id": "fdc2ddb6-1dd0-4a9a-80f3-faa1afcd46ee",
   "metadata": {},
   "outputs": [
    {
     "name": "stdout",
     "output_type": "stream",
     "text": [
      "5 5 5 5 5\n",
      " 5 5 5 5\n",
      "  5 5 5\n",
      "   5 5\n",
      "    5\n"
     ]
    }
   ],
   "source": [
    "for i in range(5, 0, -1):\n",
    "    print(' ' * (5 - i) + ' '.join(['5'] * i))"
   ]
  },
  {
   "cell_type": "markdown",
   "id": "7b2c970e-0f93-43da-860f-bd94d70023a0",
   "metadata": {},
   "source": [
    "**6.Reverse Pyramid of Numbers**"
   ]
  },
  {
   "cell_type": "code",
   "execution_count": 8,
   "id": "07029f2c-7cd7-4686-afcb-8bda3fc469b0",
   "metadata": {},
   "outputs": [
    {
     "name": "stdout",
     "output_type": "stream",
     "text": [
      "    1\n",
      "   2 1\n",
      "  3 2 1\n",
      " 4 3 2 1\n",
      "5 4 3 2 1\n"
     ]
    }
   ],
   "source": [
    "for i in range(1, 6):\n",
    "    print(' ' * (5 - i) + ' '.join(str(x) for x in range(i, 0, -1)))"
   ]
  },
  {
   "cell_type": "markdown",
   "id": "206e1b87-3987-4969-aff2-29ddc5f01239",
   "metadata": {},
   "source": [
    "**7.Inverted Half Pyramid Number Pattern**"
   ]
  },
  {
   "cell_type": "code",
   "execution_count": 9,
   "id": "4a7fa933-fe44-4a82-a32d-8a60f799130c",
   "metadata": {},
   "outputs": [
    {
     "name": "stdout",
     "output_type": "stream",
     "text": [
      "0 1 2 3 4 5\n",
      "0 1 2 3 4\n",
      "0 1 2 3\n",
      "0 1 2\n",
      "0 1\n",
      "0\n"
     ]
    }
   ],
   "source": [
    "for i in range(6, 0, -1):\n",
    "    print(' '.join(str(x) for x in range(i)))"
   ]
  },
  {
   "cell_type": "markdown",
   "id": "e599ae29-2379-4ef9-94c2-9cb97c9392f5",
   "metadata": {},
   "source": [
    "**8. Pyramid of Natural Numbers Less Than 10**"
   ]
  },
  {
   "cell_type": "code",
   "execution_count": 10,
   "id": "f8b751ac-753b-494b-a3ad-18f3a05750c9",
   "metadata": {},
   "outputs": [
    {
     "name": "stdout",
     "output_type": "stream",
     "text": [
      "1\n",
      "2 3 4\n",
      "5 6 7 8 9\n"
     ]
    }
   ],
   "source": [
    "num = 1\n",
    "for i in range(1, 4):\n",
    "    print(' '.join(str(num + j) for j in range(2 * i - 1)))\n",
    "    num += 2 * i - 1"
   ]
  },
  {
   "cell_type": "markdown",
   "id": "edda31c8-6254-4307-8622-1ce7ff905c7e",
   "metadata": {},
   "source": [
    "**9.Reverse Pattern of Digits from 10**"
   ]
  },
  {
   "cell_type": "code",
   "execution_count": 12,
   "id": "94dc6e2e-9f1a-49a0-bd3b-678fe485e983",
   "metadata": {},
   "outputs": [
    {
     "name": "stdout",
     "output_type": "stream",
     "text": [
      "1\n",
      "3 2\n",
      "6 5 4\n",
      "01 9 8 7\n"
     ]
    }
   ],
   "source": [
    "num = 1\n",
    "for i in range(1, 5):\n",
    "    print(' '.join(str(num + j) for j in range(i))[::-1])\n",
    "    num += i"
   ]
  },
  {
   "cell_type": "markdown",
   "id": "b3466317-1029-4992-8ba4-0d43793adb7b",
   "metadata": {},
   "source": [
    "**10. Unique Pyramid Pattern of Digits**"
   ]
  },
  {
   "cell_type": "code",
   "execution_count": 13,
   "id": "f695835c-6079-41e9-8638-7b82ddf36430",
   "metadata": {},
   "outputs": [
    {
     "name": "stdout",
     "output_type": "stream",
     "text": [
      "1 \n",
      "1 2 1\n",
      "1 2 3 2 1\n",
      "1 2 3 4 3 2 1\n",
      "1 2 3 4 5 4 3 2 1\n"
     ]
    }
   ],
   "source": [
    "for i in range(1, 6):\n",
    "    print(' '.join(str(j) for j in range(1, i + 1)) + ' ' + ' '.join(str(j) for j in range(i - 1, 0, -1)))"
   ]
  },
  {
   "cell_type": "markdown",
   "id": "8a634600-d2ea-42eb-a2d0-536ef21fdcb4",
   "metadata": {},
   "source": [
    "**11. Connected Inverted Pyramid Pattern of Numbers**"
   ]
  },
  {
   "cell_type": "code",
   "execution_count": 14,
   "id": "30db26d2-9185-41e1-835e-57e417a44870",
   "metadata": {},
   "outputs": [
    {
     "name": "stdout",
     "output_type": "stream",
     "text": [
      "5 4 3 2 12 3 4 5\n",
      "5 4 3 23 4 5\n",
      "5 4 34 5\n",
      "5 45\n",
      "5\n"
     ]
    }
   ],
   "source": [
    "for i in range(5):\n",
    "    left = ' '.join(str(x) for x in range(5, i, -1))\n",
    "    right = ' '.join(str(x) for x in range(i + 2, 6))\n",
    "    print(left + right)"
   ]
  },
  {
   "cell_type": "markdown",
   "id": "5111db3d-5d03-41b3-ab1b-364eee2beae6",
   "metadata": {},
   "source": [
    "**12: Even Number Pyramid Pattern**"
   ]
  },
  {
   "cell_type": "code",
   "execution_count": 15,
   "id": "32ce4e4d-fc0d-4c9a-a808-ae848d3b3cf5",
   "metadata": {},
   "outputs": [
    {
     "name": "stdout",
     "output_type": "stream",
     "text": [
      "10\n",
      "10 8\n",
      "10 8 6\n",
      "10 8 6 4\n",
      "10 8 6 4 2\n"
     ]
    }
   ],
   "source": [
    "for i in range(1, 6):\n",
    "    print(' '.join(str(10 - 2 * j) for j in range(i)))"
   ]
  },
  {
   "cell_type": "markdown",
   "id": "8d8f879b-bcd0-437b-abb4-ba9e37bf9306",
   "metadata": {},
   "source": [
    "**13: Pyramid of Horizontal Tables**"
   ]
  },
  {
   "cell_type": "code",
   "execution_count": 16,
   "id": "e1cd4b32-66f6-41b2-8f5c-1aa481269840",
   "metadata": {},
   "outputs": [
    {
     "name": "stdout",
     "output_type": "stream",
     "text": [
      "0\n",
      "0 1\n",
      "0 2 4\n",
      "0 3 6 9\n",
      "0 4 8 12 16\n",
      "0 5 10 15 20 25\n",
      "0 6 12 18 24 30 36\n"
     ]
    }
   ],
   "source": [
    "for i in range(7):\n",
    "    print(' '.join(str(i * j) for j in range(i + 1)))"
   ]
  },
  {
   "cell_type": "markdown",
   "id": "213b2bdd-e6a9-4526-a145-0f8a9e73cbdf",
   "metadata": {},
   "source": [
    "**14: Pyramid Pattern of Alternate Numbers**"
   ]
  },
  {
   "cell_type": "code",
   "execution_count": 17,
   "id": "68513cf8-87a2-41d3-a6a5-9fb897d0e00a",
   "metadata": {},
   "outputs": [
    {
     "name": "stdout",
     "output_type": "stream",
     "text": [
      "1\n",
      "3 3\n",
      "5 5 5\n",
      "7 7 7 7\n",
      "9 9 9 9 9\n"
     ]
    }
   ],
   "source": [
    "for i in range(1, 6):\n",
    "    print(' '.join([str(2 * i - 1)] * i))"
   ]
  },
  {
   "cell_type": "markdown",
   "id": "e56654fd-f7f2-4028-a394-ce57cb8777d8",
   "metadata": {},
   "source": [
    "**15: Mirrored Pyramid (Right-angled Triangle) Pattern of Numbers**"
   ]
  },
  {
   "cell_type": "code",
   "execution_count": 18,
   "id": "f43cb3b0-acf4-4ca2-9392-cdfa2dd18187",
   "metadata": {},
   "outputs": [
    {
     "name": "stdout",
     "output_type": "stream",
     "text": [
      "     1\n",
      "    1 2\n",
      "   1 2 3\n",
      "  1 2 3 4\n",
      " 1 2 3 4 5\n"
     ]
    }
   ],
   "source": [
    "for i in range(1, 6):\n",
    "    print(' ' * (6 - i) + ' '.join(str(x) for x in range(1, i + 1)))"
   ]
  },
  {
   "cell_type": "markdown",
   "id": "ad47438a-83d2-4421-a4b3-23bfc204d5f4",
   "metadata": {},
   "source": [
    "**16: Equilateral Triangle with Stars (Asterisk Symbol)**"
   ]
  },
  {
   "cell_type": "code",
   "execution_count": 19,
   "id": "001df1d0-7990-4a39-94cd-912d4824df39",
   "metadata": {},
   "outputs": [
    {
     "name": "stdout",
     "output_type": "stream",
     "text": [
      "      *\n",
      "     * *\n",
      "    * * *\n",
      "   * * * *\n",
      "  * * * * *\n",
      " * * * * * *\n",
      "* * * * * * *\n"
     ]
    }
   ],
   "source": [
    "for i in range(1, 8):\n",
    "    print(' ' * (7 - i) + ' '.join(['*'] * i))"
   ]
  },
  {
   "cell_type": "markdown",
   "id": "a2ae6786-972b-4ef1-9f46-28260534fc93",
   "metadata": {},
   "source": [
    "**17: Downward Triangle Pattern of Stars**"
   ]
  },
  {
   "cell_type": "code",
   "execution_count": 20,
   "id": "45700f17-5ac7-4808-a135-6a91e9ea98bc",
   "metadata": {},
   "outputs": [
    {
     "name": "stdout",
     "output_type": "stream",
     "text": [
      "* * * * * *\n",
      " * * * * *\n",
      "  * * * *\n",
      "   * * *\n",
      "    * *\n",
      "     *\n"
     ]
    }
   ],
   "source": [
    "for i in range(6, 0, -1):\n",
    "    print(' ' * (6 - i) + ' '.join(['*'] * i))"
   ]
  },
  {
   "cell_type": "markdown",
   "id": "0b3274ab-48ee-4227-a794-252979033cc8",
   "metadata": {},
   "source": [
    "**18: Pyramid Pattern of Stars**"
   ]
  },
  {
   "cell_type": "code",
   "execution_count": 21,
   "id": "0e1b69e0-3c0a-43fd-8d5a-b903bd89866f",
   "metadata": {},
   "outputs": [
    {
     "name": "stdout",
     "output_type": "stream",
     "text": [
      "*\n",
      "* *\n",
      "* * *\n",
      "* * * *\n",
      "* * * * *\n"
     ]
    }
   ],
   "source": [
    "for i in range(1, 6):\n",
    "    print(' '.join(['*'] * i))"
   ]
  },
  {
   "cell_type": "code",
   "execution_count": null,
   "id": "992d54d0-1768-4ed4-8d3b-a2a974cff6ec",
   "metadata": {},
   "outputs": [],
   "source": []
  }
 ],
 "metadata": {
  "kernelspec": {
   "display_name": "Python 3 (ipykernel)",
   "language": "python",
   "name": "python3"
  },
  "language_info": {
   "codemirror_mode": {
    "name": "ipython",
    "version": 3
   },
   "file_extension": ".py",
   "mimetype": "text/x-python",
   "name": "python",
   "nbconvert_exporter": "python",
   "pygments_lexer": "ipython3",
   "version": "3.12.5"
  }
 },
 "nbformat": 4,
 "nbformat_minor": 5
}
