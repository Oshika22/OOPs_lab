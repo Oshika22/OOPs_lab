{
 "cells": [
  {
   "cell_type": "markdown",
   "id": "d916c994-d0d6-4c16-85e2-a1df3e871097",
   "metadata": {},
   "source": [
    "**Disarium No**"
   ]
  },
  {
   "cell_type": "code",
   "execution_count": 5,
   "id": "387a9b0e-4a31-4caa-821c-8c850db3c0b2",
   "metadata": {},
   "outputs": [
    {
     "name": "stdin",
     "output_type": "stream",
     "text": [
      "Enter a no. 175\n"
     ]
    },
    {
     "name": "stdout",
     "output_type": "stream",
     "text": [
      "175 is a Disarium Number\n"
     ]
    }
   ],
   "source": [
    "def is_disarium(number):\n",
    "    num_str = str(number)\n",
    "    disarium_sum = sum(int(digit) ** (index + 1) for index, digit in enumerate(num_str))\n",
    "    return disarium_sum == number\n",
    "number = int(input(\"Enter a no.\"))\n",
    "if is_disarium(number):\n",
    "    print(f\"{number} is a Disarium Number\")\n",
    "else:\n",
    "    print(f\"{number} is not a Disarium Number\")"
   ]
  },
  {
   "cell_type": "markdown",
   "id": "35015baf-6d3f-44ae-8ae5-0588ad4f6370",
   "metadata": {},
   "source": [
    "**Harshad no.**"
   ]
  },
  {
   "cell_type": "code",
   "execution_count": 7,
   "id": "4536de63-5fba-4681-9149-b6631cc3bc49",
   "metadata": {},
   "outputs": [
    {
     "name": "stdin",
     "output_type": "stream",
     "text": [
      "Enter a no.: 18\n"
     ]
    },
    {
     "name": "stdout",
     "output_type": "stream",
     "text": [
      "18 is a Harshad Number\n"
     ]
    }
   ],
   "source": [
    "\n",
    "def is_harshad(number):\n",
    "    sum_digits = sum(int(digit) for digit in str(number))\n",
    "    return number % sum_digits == 0\n",
    "\n",
    "number = int(input(\"Enter a no.:\"))\n",
    "if is_harshad(number):\n",
    "    print(f\"{number} is a Harshad Number\")\n",
    "else:\n",
    "    print(f\"{number} is not a Harshad Number\")\n"
   ]
  },
  {
   "cell_type": "markdown",
   "id": "3d9ee4e4-4e92-4311-bc02-f7f0b567c202",
   "metadata": {},
   "source": [
    "**Armstrong 1 to 1000**"
   ]
  },
  {
   "cell_type": "code",
   "execution_count": 8,
   "id": "a5f2889e-4bec-4663-af3c-4b66abd687b7",
   "metadata": {},
   "outputs": [
    {
     "name": "stdout",
     "output_type": "stream",
     "text": [
      "Armstrong Numbers from 1 to 1000:\n",
      "1 2 3 4 5 6 7 8 9 153 370 371 407 "
     ]
    }
   ],
   "source": [
    "def is_armstrong(number):\n",
    "    num_str = str(number)\n",
    "    num_len = len(num_str)\n",
    "    armstrong_sum = sum(int(digit) ** num_len for digit in num_str)\n",
    "    return armstrong_sum == number\n",
    "\n",
    "print(\"Armstrong Numbers from 1 to 1000:\")\n",
    "for num in range(1, 1001):\n",
    "    if is_armstrong(num):\n",
    "        print(num, end=\" \")\n"
   ]
  },
  {
   "cell_type": "markdown",
   "id": "e67f4437-75fb-4069-a8bc-ee32225f570d",
   "metadata": {},
   "source": [
    "**value of x^n**"
   ]
  },
  {
   "cell_type": "code",
   "execution_count": 9,
   "id": "429818bf-9bd0-4373-96bf-8ec24a285db1",
   "metadata": {},
   "outputs": [
    {
     "name": "stdin",
     "output_type": "stream",
     "text": [
      "enter x : 2\n",
      "enter n : 3\n"
     ]
    },
    {
     "name": "stdout",
     "output_type": "stream",
     "text": [
      "The value of 2^3 is 8\n"
     ]
    }
   ],
   "source": [
    "def power(x, n):\n",
    "    return x ** n\n",
    "\n",
    "x = int(input(\"enter x :\"))\n",
    "n = int(input(\"enter n :\"))\n",
    "print(f\"The value of {x}^{n} is {power(x, n)}\")"
   ]
  },
  {
   "cell_type": "markdown",
   "id": "19086a2a-d3fe-4d72-bb88-08396d48aee5",
   "metadata": {},
   "source": [
    "**Calc. nCr**"
   ]
  },
  {
   "cell_type": "code",
   "execution_count": 10,
   "id": "ca2047f2-2d3d-429b-8c17-fd84ce789e95",
   "metadata": {},
   "outputs": [
    {
     "name": "stdin",
     "output_type": "stream",
     "text": [
      "Enter n : 5\n",
      "Enter r : 2\n"
     ]
    },
    {
     "name": "stdout",
     "output_type": "stream",
     "text": [
      "The value of 5C2 is 10\n"
     ]
    }
   ],
   "source": [
    "import math\n",
    "\n",
    "def nCr(n, r):\n",
    "    return math.comb(n, r)\n",
    "\n",
    "n = int(input(\"Enter n :\"))\n",
    "r = int(input(\"Enter r :\"))\n",
    "print(f\"The value of {n}C{r} is {nCr(n, r)}\")\n"
   ]
  },
  {
   "cell_type": "markdown",
   "id": "75dbc2d2-373c-421a-bf8a-ac5959639cab",
   "metadata": {},
   "source": [
    "**Sum of digits**"
   ]
  },
  {
   "cell_type": "code",
   "execution_count": 12,
   "id": "dafcecd7-cd76-4b27-b549-8480a172ac94",
   "metadata": {},
   "outputs": [
    {
     "name": "stdin",
     "output_type": "stream",
     "text": [
      "Enter a number:  1234\n"
     ]
    },
    {
     "name": "stdout",
     "output_type": "stream",
     "text": [
      "The sum of the digits in 1234 is 10\n"
     ]
    }
   ],
   "source": [
    "\n",
    "def sum_digits(number):\n",
    "    total = 0\n",
    "    while number > 0:\n",
    "        remainder = number % 10  \n",
    "        total += remainder       \n",
    "        number = number // 10    \n",
    "    return total\n",
    "\n",
    "number = int(input(\"Enter a number: \"))\n",
    "print(f\"The sum of the digits in {number} is {sum_of_digits(number)}\")\n"
   ]
  },
  {
   "cell_type": "code",
   "execution_count": null,
   "id": "a4951d0d-ebed-4108-bd79-e8093475dd6d",
   "metadata": {},
   "outputs": [],
   "source": []
  }
 ],
 "metadata": {
  "kernelspec": {
   "display_name": "Python 3 (ipykernel)",
   "language": "python",
   "name": "python3"
  },
  "language_info": {
   "codemirror_mode": {
    "name": "ipython",
    "version": 3
   },
   "file_extension": ".py",
   "mimetype": "text/x-python",
   "name": "python",
   "nbconvert_exporter": "python",
   "pygments_lexer": "ipython3",
   "version": "3.12.5"
  }
 },
 "nbformat": 4,
 "nbformat_minor": 5
}
